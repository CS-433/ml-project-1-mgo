{
 "cells": [
  {
   "cell_type": "code",
   "execution_count": 2,
   "metadata": {
    "tags": []
   },
   "outputs": [],
   "source": [
    "# -*- coding: utf-8 -*-\n",
    "%matplotlib inline\n",
    "import numpy as np\n",
    "import matplotlib.pyplot as plt\n",
    "import seaborn as sns #visualisation\n",
    "%load_ext autoreload\n",
    "%autoreload 2"
   ]
  },
  {
   "cell_type": "markdown",
   "metadata": {},
   "source": [
    "## Load the training data into feature matrix, class labels, and event ids:"
   ]
  },
  {
   "cell_type": "code",
   "execution_count": 3,
   "metadata": {
    "collapsed": false,
    "jupyter": {
     "outputs_hidden": false
    }
   },
   "outputs": [],
   "source": [
    "from proj1_helpers import *\n",
    "from zipfile import ZipFile\n",
    "\n",
    "DATA_TRAIN_PATH = '../data/train.csv' # TODO: download train data and supply path here \n",
    "with ZipFile('../data/train.csv.zip', 'r') as zip:\n",
    "    zip.extractall('../data')\n",
    "y, tX, ids = load_csv_data(DATA_TRAIN_PATH)"
   ]
  },
  {
   "cell_type": "code",
   "execution_count": 23,
   "metadata": {},
   "outputs": [
    {
     "name": "stdout",
     "output_type": "stream",
     "text": [
      "(250000, 30)\n"
     ]
    },
    {
     "data": {
      "text/plain": [
       "array([[ 1.38470e+02,  5.16550e+01,  9.78270e+01,  2.79800e+01,\n",
       "         9.10000e-01,  1.24711e+02,  2.66600e+00,  3.06400e+00,\n",
       "         4.19280e+01,  1.97760e+02,  1.58200e+00,  1.39600e+00,\n",
       "         2.00000e-01,  3.26380e+01,  1.01700e+00,  3.81000e-01,\n",
       "         5.16260e+01,  2.27300e+00, -2.41400e+00,  1.68240e+01,\n",
       "        -2.77000e-01,  2.58733e+02,  2.00000e+00,  6.74350e+01,\n",
       "         2.15000e+00,  4.44000e-01,  4.60620e+01,  1.24000e+00,\n",
       "        -2.47500e+00,  1.13497e+02],\n",
       "       [ 1.60937e+02,  6.87680e+01,  1.03235e+02,  4.81460e+01,\n",
       "        -9.99000e+02, -9.99000e+02, -9.99000e+02,  3.47300e+00,\n",
       "         2.07800e+00,  1.25157e+02,  8.79000e-01,  1.41400e+00,\n",
       "        -9.99000e+02,  4.20140e+01,  2.03900e+00, -3.01100e+00,\n",
       "         3.69180e+01,  5.01000e-01,  1.03000e-01,  4.47040e+01,\n",
       "        -1.91600e+00,  1.64546e+02,  1.00000e+00,  4.62260e+01,\n",
       "         7.25000e-01,  1.15800e+00, -9.99000e+02, -9.99000e+02,\n",
       "        -9.99000e+02,  4.62260e+01],\n",
       "       [-9.99000e+02,  1.62172e+02,  1.25953e+02,  3.56350e+01,\n",
       "        -9.99000e+02, -9.99000e+02, -9.99000e+02,  3.14800e+00,\n",
       "         9.33600e+00,  1.97814e+02,  3.77600e+00,  1.41400e+00,\n",
       "        -9.99000e+02,  3.21540e+01, -7.05000e-01, -2.09300e+00,\n",
       "         1.21409e+02, -9.53000e-01,  1.05200e+00,  5.42830e+01,\n",
       "        -2.18600e+00,  2.60414e+02,  1.00000e+00,  4.42510e+01,\n",
       "         2.05300e+00, -2.02800e+00, -9.99000e+02, -9.99000e+02,\n",
       "        -9.99000e+02,  4.42510e+01],\n",
       "       [ 1.43905e+02,  8.14170e+01,  8.09430e+01,  4.14000e-01,\n",
       "        -9.99000e+02, -9.99000e+02, -9.99000e+02,  3.31000e+00,\n",
       "         4.14000e-01,  7.59680e+01,  2.35400e+00, -1.28500e+00,\n",
       "        -9.99000e+02,  2.26470e+01, -1.65500e+00,  1.00000e-02,\n",
       "         5.33210e+01, -5.22000e-01, -3.10000e+00,  3.10820e+01,\n",
       "         6.00000e-02,  8.60620e+01,  0.00000e+00, -9.99000e+02,\n",
       "        -9.99000e+02, -9.99000e+02, -9.99000e+02, -9.99000e+02,\n",
       "        -9.99000e+02,  0.00000e+00],\n",
       "       [ 1.75864e+02,  1.69150e+01,  1.34805e+02,  1.64050e+01,\n",
       "        -9.99000e+02, -9.99000e+02, -9.99000e+02,  3.89100e+00,\n",
       "         1.64050e+01,  5.79830e+01,  1.05600e+00, -1.38500e+00,\n",
       "        -9.99000e+02,  2.82090e+01, -2.19700e+00, -2.23100e+00,\n",
       "         2.97740e+01,  7.98000e-01,  1.56900e+00,  2.72300e+00,\n",
       "        -8.71000e-01,  5.31310e+01,  0.00000e+00, -9.99000e+02,\n",
       "        -9.99000e+02, -9.99000e+02, -9.99000e+02, -9.99000e+02,\n",
       "        -9.99000e+02,  0.00000e+00]])"
      ]
     },
     "execution_count": 23,
     "metadata": {},
     "output_type": "execute_result"
    }
   ],
   "source": [
    "#Let's see the dimension of the input\n",
    "print(tX.shape)\n",
    "tX[:5]"
   ]
  },
  {
   "cell_type": "code",
   "execution_count": 26,
   "metadata": {},
   "outputs": [
    {
     "data": {
      "text/plain": [
       "[<matplotlib.lines.Line2D at 0x1d1893ffd00>,\n",
       " <matplotlib.lines.Line2D at 0x1d1893ffdc0>,\n",
       " <matplotlib.lines.Line2D at 0x1d1893ffe80>,\n",
       " <matplotlib.lines.Line2D at 0x1d1893fff40>,\n",
       " <matplotlib.lines.Line2D at 0x1d18de5c040>,\n",
       " <matplotlib.lines.Line2D at 0x1d18de5c100>,\n",
       " <matplotlib.lines.Line2D at 0x1d18de5c1c0>,\n",
       " <matplotlib.lines.Line2D at 0x1d18de5c280>,\n",
       " <matplotlib.lines.Line2D at 0x1d18de5c340>,\n",
       " <matplotlib.lines.Line2D at 0x1d18de5c400>,\n",
       " <matplotlib.lines.Line2D at 0x1d1872adf70>,\n",
       " <matplotlib.lines.Line2D at 0x1d18de5c550>,\n",
       " <matplotlib.lines.Line2D at 0x1d18de5c610>,\n",
       " <matplotlib.lines.Line2D at 0x1d18de5c6d0>,\n",
       " <matplotlib.lines.Line2D at 0x1d18de5c790>,\n",
       " <matplotlib.lines.Line2D at 0x1d18de5c850>,\n",
       " <matplotlib.lines.Line2D at 0x1d18de5c910>,\n",
       " <matplotlib.lines.Line2D at 0x1d18de5c9d0>,\n",
       " <matplotlib.lines.Line2D at 0x1d18de5ca90>,\n",
       " <matplotlib.lines.Line2D at 0x1d18de5cb50>,\n",
       " <matplotlib.lines.Line2D at 0x1d18de5cc10>,\n",
       " <matplotlib.lines.Line2D at 0x1d18de5ccd0>,\n",
       " <matplotlib.lines.Line2D at 0x1d18de5cd90>,\n",
       " <matplotlib.lines.Line2D at 0x1d18de5ce50>,\n",
       " <matplotlib.lines.Line2D at 0x1d18de5cf10>,\n",
       " <matplotlib.lines.Line2D at 0x1d18de5cfd0>,\n",
       " <matplotlib.lines.Line2D at 0x1d18de550d0>,\n",
       " <matplotlib.lines.Line2D at 0x1d18de55190>,\n",
       " <matplotlib.lines.Line2D at 0x1d18de55250>,\n",
       " <matplotlib.lines.Line2D at 0x1d18de55310>]"
      ]
     },
     "execution_count": 26,
     "metadata": {},
     "output_type": "execute_result"
    },
    {
     "data": {
      "image/png": "[encoded data removed]",
      "text/plain": [
       "<Figure size 432x288 with 1 Axes>"
      ]
     },
     "metadata": {
      "needs_background": "light"
     },
     "output_type": "display_data"
    }
   ],
   "source": [
    "plt.plot(tX[1:])"
   ]
  },
  {
   "cell_type": "markdown",
   "metadata": {},
   "source": [
    "## Do your thing crazy machine learning thing here :) ..."
   ]
  },
  {
   "cell_type": "markdown",
   "metadata": {},
   "source": [
    "## Generate predictions and save ouput in csv format for submission:"
   ]
  },
  {
   "cell_type": "code",
   "execution_count": 5,
   "metadata": {
    "collapsed": false,
    "jupyter": {
     "outputs_hidden": false
    }
   },
   "outputs": [],
   "source": [
    "DATA_TEST_PATH = '../data/test.csv' # TODO: download train data and supply path here \n",
    "with ZipFile('../data/test.csv.zip', 'r') as zip:\n",
    "    zip.extractall('../data')\n",
    "_, tX_test, ids_test = load_csv_data(DATA_TEST_PATH)"
   ]
  },
  {
   "cell_type": "code",
   "execution_count": 6,
   "metadata": {
    "collapsed": false,
    "jupyter": {
     "outputs_hidden": false
    }
   },
   "outputs": [
    {
     "ename": "NameError",
     "evalue": "name 'weights' is not defined",
     "output_type": "error",
     "traceback": [
      "\u001b[1;31m---------------------------------------------------------------------------\u001b[0m",
      "\u001b[1;31mNameError\u001b[0m                                 Traceback (most recent call last)",
      "\u001b[1;32m<ipython-input-6-19ddc45a7fe1>\u001b[0m in \u001b[0;36m<module>\u001b[1;34m\u001b[0m\n\u001b[0;32m      1\u001b[0m \u001b[0mOUTPUT_PATH\u001b[0m \u001b[1;33m=\u001b[0m \u001b[1;34m'../data/output.csv'\u001b[0m \u001b[1;31m# TODO: fill in desired name of output file for submission\u001b[0m\u001b[1;33m\u001b[0m\u001b[1;33m\u001b[0m\u001b[0m\n\u001b[1;32m----> 2\u001b[1;33m \u001b[0my_pred\u001b[0m \u001b[1;33m=\u001b[0m \u001b[0mpredict_labels\u001b[0m\u001b[1;33m(\u001b[0m\u001b[0mweights\u001b[0m\u001b[1;33m,\u001b[0m \u001b[0mtX_test\u001b[0m\u001b[1;33m)\u001b[0m\u001b[1;33m\u001b[0m\u001b[1;33m\u001b[0m\u001b[0m\n\u001b[0m\u001b[0;32m      3\u001b[0m \u001b[0mcreate_csv_submission\u001b[0m\u001b[1;33m(\u001b[0m\u001b[0mids_test\u001b[0m\u001b[1;33m,\u001b[0m \u001b[0my_pred\u001b[0m\u001b[1;33m,\u001b[0m \u001b[0mOUTPUT_PATH\u001b[0m\u001b[1;33m)\u001b[0m\u001b[1;33m\u001b[0m\u001b[1;33m\u001b[0m\u001b[0m\n",
      "\u001b[1;31mNameError\u001b[0m: name 'weights' is not defined"
     ]
    }
   ],
   "source": [
    "OUTPUT_PATH = '../data/output.csv' # TODO: fill in desired name of output file for submission\n",
    "y_pred = predict_labels(weights, tX_test)\n",
    "create_csv_submission(ids_test, y_pred, OUTPUT_PATH)"
   ]
  },
  {
   "cell_type": "code",
   "execution_count": null,
   "metadata": {
    "collapsed": true,
    "jupyter": {
     "outputs_hidden": true
    }
   },
   "outputs": [],
   "source": []
  }
 ],
 "metadata": {
  "anaconda-cloud": {},
  "kernelspec": {
   "display_name": "Python 3",
   "language": "python",
   "name": "python3"
  },
  "language_info": {
   "codemirror_mode": {
    "name": "ipython",
    "version": 3
   },
   "file_extension": ".py",
   "mimetype": "text/x-python",
   "name": "python",
   "nbconvert_exporter": "python",
   "pygments_lexer": "ipython3",
   "version": "3.8.8"
  }
 },
 "nbformat": 4,
 "nbformat_minor": 4
}
